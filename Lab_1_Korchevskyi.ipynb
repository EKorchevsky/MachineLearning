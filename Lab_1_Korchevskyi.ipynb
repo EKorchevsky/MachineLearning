{
  "nbformat": 4,
  "nbformat_minor": 0,
  "metadata": {
    "colab": {
      "provenance": [],
      "authorship_tag": "ABX9TyNhC/59R1mK23fXn8G3MQof",
      "include_colab_link": true
    },
    "kernelspec": {
      "name": "python3",
      "display_name": "Python 3"
    },
    "language_info": {
      "name": "python"
    }
  },
  "cells": [
    {
      "cell_type": "markdown",
      "metadata": {
        "id": "view-in-github",
        "colab_type": "text"
      },
      "source": [
        "<a href=\"https://colab.research.google.com/github/EKorchevsky/MachineLearning/blob/main/%D0%9B%D0%B0%D0%B1%D0%BE%D0%BB%D0%B0%D1%82%D0%BE%D1%80%D0%BD%D0%B0_%D0%9B%D0%A01_%D0%9A%D0%BE%D1%80%D1%87%D0%B5%D0%B2%D1%81%D1%8C%D0%BA%D0%B8%D0%B9.ipynb\" target=\"_parent\"><img src=\"https://colab.research.google.com/assets/colab-badge.svg\" alt=\"Open In Colab\"/></a>"
      ]
    },
    {
      "cell_type": "markdown",
      "source": [
        "Корчевський Едуард ФІТ 3-3з Лаболаторна робота 1"
      ],
      "metadata": {
        "id": "r4wJ2e6vZcvl"
      }
    },
    {
      "cell_type": "code",
      "execution_count": null,
      "metadata": {
        "colab": {
          "base_uri": "https://localhost:8080/",
          "height": 35
        },
        "id": "kmde_cl4O-QZ",
        "outputId": "94274d49-7a9f-484c-920c-93520978645d"
      },
      "outputs": [
        {
          "output_type": "execute_result",
          "data": {
            "text/plain": [
              "'2.0.2'"
            ],
            "application/vnd.google.colaboratory.intrinsic+json": {
              "type": "string"
            }
          },
          "metadata": {},
          "execution_count": 1
        }
      ],
      "source": [
        "import numpy as np\n",
        "np.__version__"
      ]
    },
    {
      "cell_type": "markdown",
      "source": [
        "Сторити матрицю 3*3, заповнити цілими випадковими від 1 до 5"
      ],
      "metadata": {
        "id": "37-wQGaEQVFd"
      }
    },
    {
      "cell_type": "code",
      "source": [
        "matrix = np.random.randint(1,6, size=(3,3))\n",
        "matrix"
      ],
      "metadata": {
        "colab": {
          "base_uri": "https://localhost:8080/"
        },
        "id": "gch4of5qPmly",
        "outputId": "3b96ad8f-c72a-4f9c-9a4e-10f47e4ec0cb"
      },
      "execution_count": null,
      "outputs": [
        {
          "output_type": "execute_result",
          "data": {
            "text/plain": [
              "array([[5, 5, 4],\n",
              "       [4, 1, 4],\n",
              "       [3, 3, 1]])"
            ]
          },
          "metadata": {},
          "execution_count": 3
        }
      ]
    },
    {
      "cell_type": "markdown",
      "source": [
        "Обчислити визначник"
      ],
      "metadata": {
        "id": "QpkS3A5xRvXv"
      }
    },
    {
      "cell_type": "code",
      "source": [
        "det = np.linalg.det(matrix)\n",
        "det"
      ],
      "metadata": {
        "colab": {
          "base_uri": "https://localhost:8080/"
        },
        "id": "8A1YpZhYQdJv",
        "outputId": "15dbae6e-3b2d-4106-d05b-c2a524436d4b"
      },
      "execution_count": null,
      "outputs": [
        {
          "output_type": "execute_result",
          "data": {
            "text/plain": [
              "np.float64(21.00000000000001)"
            ]
          },
          "metadata": {},
          "execution_count": 4
        }
      ]
    },
    {
      "cell_type": "markdown",
      "source": [
        "Знайти добуток всіх елементів матриці"
      ],
      "metadata": {
        "id": "ZrJhDbvZRqcp"
      }
    },
    {
      "cell_type": "code",
      "source": [
        "product = np.prod(matrix)\n",
        "print(\"Добуток всіх елементів матриці\", product)"
      ],
      "metadata": {
        "colab": {
          "base_uri": "https://localhost:8080/"
        },
        "id": "lPsRi3kWQnJp",
        "outputId": "82bec540-8881-4086-9d56-4c3d4fd714ac"
      },
      "execution_count": null,
      "outputs": [
        {
          "output_type": "stream",
          "name": "stdout",
          "text": [
            "Добуток всіх елементів матриці 14400\n"
          ]
        }
      ]
    },
    {
      "cell_type": "markdown",
      "source": [],
      "metadata": {
        "id": "uBl2n4uHaIn8"
      }
    },
    {
      "cell_type": "code",
      "source": [
        "prod_1 = np.prod(matrix[0])\n",
        "prod_2 = np.prod(matrix[1])\n",
        "prod_3 = np.prod(matrix[2])\n",
        "prod_1*prod_2*prod_3"
      ],
      "metadata": {
        "colab": {
          "base_uri": "https://localhost:8080/"
        },
        "id": "bMOoYQI0RzRH",
        "outputId": "2d32856e-9803-4ce7-9b1a-bae70658ef0c"
      },
      "execution_count": null,
      "outputs": [
        {
          "output_type": "execute_result",
          "data": {
            "text/plain": [
              "np.int64(14400)"
            ]
          },
          "metadata": {},
          "execution_count": 6
        }
      ]
    },
    {
      "cell_type": "markdown",
      "source": [
        "Знайти сумму всіх елементів матриці"
      ],
      "metadata": {
        "id": "zMZLFMdPaG46"
      }
    },
    {
      "cell_type": "code",
      "source": [
        "sum = np.sum(matrix)\n",
        "sum"
      ],
      "metadata": {
        "colab": {
          "base_uri": "https://localhost:8080/"
        },
        "id": "LfSlr5WUSPBR",
        "outputId": "c5396537-a5e6-4f8b-88ae-400edda5e64e"
      },
      "execution_count": null,
      "outputs": [
        {
          "output_type": "execute_result",
          "data": {
            "text/plain": [
              "np.int64(30)"
            ]
          },
          "metadata": {},
          "execution_count": 7
        }
      ]
    },
    {
      "cell_type": "markdown",
      "source": [
        "Обчислити найбільший та найменший елемент"
      ],
      "metadata": {
        "id": "4748iDL-aYhn"
      }
    },
    {
      "cell_type": "code",
      "source": [
        "max_element = np.max(matrix)\n",
        "print(\"Найбільший елемент \",max_element)\n",
        "min_element = np.min(matrix)\n",
        "print(\"Найменший елемент \",min_element)"
      ],
      "metadata": {
        "colab": {
          "base_uri": "https://localhost:8080/"
        },
        "id": "fF3tt1ooSc2L",
        "outputId": "5eeaca92-043b-4237-d298-d0f10b48884c"
      },
      "execution_count": null,
      "outputs": [
        {
          "output_type": "stream",
          "name": "stdout",
          "text": [
            "Найбільший елемент  5\n",
            "Найменший елемент  1\n"
          ]
        }
      ]
    },
    {
      "cell_type": "markdown",
      "source": [
        "Знайти середне значення"
      ],
      "metadata": {
        "id": "AG0nW3A6ac8q"
      }
    },
    {
      "cell_type": "code",
      "source": [
        "mean = np.mean(matrix)\n",
        "print(\"Середне значення елементів\",mean)"
      ],
      "metadata": {
        "id": "WwlfpkY-S8xw"
      },
      "execution_count": null,
      "outputs": []
    },
    {
      "cell_type": "markdown",
      "source": [
        "Знайти матрицю що складена за квадратних коренів"
      ],
      "metadata": {
        "id": "TGCy0MKuafUH"
      }
    },
    {
      "cell_type": "code",
      "source": [
        "sqrt_matrix = np.sqrt(matrix)\n",
        "print(\"Матриця кв. коренів:\")\n",
        "print(sqrt_matrix)"
      ],
      "metadata": {
        "colab": {
          "base_uri": "https://localhost:8080/"
        },
        "id": "jvlj5pOuTIJf",
        "outputId": "1e540e00-123e-41e3-df9b-32d0a3f64d51"
      },
      "execution_count": null,
      "outputs": [
        {
          "output_type": "stream",
          "name": "stdout",
          "text": [
            "Матриця кв. коренів  [[2.23606798 2.23606798 2.        ]\n",
            " [2.         1.         2.        ]\n",
            " [1.73205081 1.73205081 1.        ]]\n"
          ]
        }
      ]
    },
    {
      "cell_type": "markdown",
      "source": [
        "Обчислити сумму елементів кожного рядку"
      ],
      "metadata": {
        "id": "CZYwTIzyakRn"
      }
    },
    {
      "cell_type": "code",
      "source": [
        "row_sums = np.sum(matrix, axis=1).reshape(-1,1)\n",
        "print(\"Сумма елементів матриці:\")\n",
        "print(row_sums)"
      ],
      "metadata": {
        "id": "zUQOVPB7TdZT"
      },
      "execution_count": null,
      "outputs": []
    },
    {
      "cell_type": "markdown",
      "source": [
        "Стоврити вектор що містить 25 елементіву. Заповнити числами від 0 до 9. Відсортувати"
      ],
      "metadata": {
        "id": "D4o4bgn1apc6"
      }
    },
    {
      "cell_type": "code",
      "source": [
        "vector = np.random.randint(0, 10, size=25)\n",
        "print(\"Початковый вектор:\",vector)\n",
        "print(\"Сортований вектор:\",(np.sort(vector)[::-1]))"
      ],
      "metadata": {
        "colab": {
          "base_uri": "https://localhost:8080/"
        },
        "id": "f_R9rLFzT34H",
        "outputId": "a1746958-734e-4d24-fb4d-40402216b0c8"
      },
      "execution_count": null,
      "outputs": [
        {
          "output_type": "stream",
          "name": "stdout",
          "text": [
            "Початковый вектор: [1 0 5 8 7 4 3 2 5 9 3 6 9 8 1 2 8 0 1 9 4 2 5 3 5]\n",
            "Сортований вектор: [9 9 9 8 8 8 7 6 5 5 5 5 4 4 3 3 3 2 2 2 1 1 1 0 0]\n"
          ]
        }
      ]
    },
    {
      "cell_type": "markdown",
      "source": [
        "Знайти моду, медіану, середнє значення, Максимальне і мінімальне."
      ],
      "metadata": {
        "id": "0JMPrRyuaxzA"
      }
    },
    {
      "cell_type": "code",
      "source": [
        "from scipy import stats\n",
        "print(\"Мода:\",stats.mode(vector))\n",
        "\n",
        "print(\"Медіана:\",np.median(vector))\n",
        "\n",
        "print(\"Середнє:\",np.mean(vector))\n",
        "\n",
        "print(\"Макс:\",np.max(vector))\n",
        "print(\"Мін:\",np.min(vector))"
      ],
      "metadata": {
        "colab": {
          "base_uri": "https://localhost:8080/"
        },
        "id": "Dc-tMmydU-it",
        "outputId": "f8a32b87-ba12-4f38-ac97-47c116cd312a"
      },
      "execution_count": null,
      "outputs": [
        {
          "output_type": "stream",
          "name": "stdout",
          "text": [
            "Мода: ModeResult(mode=np.int64(5), count=np.int64(4))\n",
            "Медіана: 4.0\n",
            "Середнє: 4.4\n",
            "Макс: 9\n",
            "Мін: 0\n"
          ]
        }
      ]
    },
    {
      "cell_type": "markdown",
      "source": [
        "Створити 2 матриці 4*4 заповниені числами від 1 до 10. обчислити сумму різницю поелементний добуток, частку."
      ],
      "metadata": {
        "id": "eRFHsUyVa7vF"
      }
    },
    {
      "cell_type": "code",
      "source": [
        "matrix1 = np.random.randint(1,11, size=(4,4))\n",
        "matrix2 = np.random.randint(1,11, size=(4,4))\n",
        "print(\"Матриця 1:\")\n",
        "print(matrix1)\n",
        "print(\"Матриця 2:\")\n",
        "print(matrix2)"
      ],
      "metadata": {
        "colab": {
          "base_uri": "https://localhost:8080/"
        },
        "id": "eIDaxTCOWS8m",
        "outputId": "368d5e00-be81-4d81-cf8c-07417c8fb817"
      },
      "execution_count": null,
      "outputs": [
        {
          "output_type": "stream",
          "name": "stdout",
          "text": [
            "Матриця 1:\n",
            "[[ 2  3  7  3]\n",
            " [ 4  2  2  2]\n",
            " [ 8  4  3  9]\n",
            " [ 7 10  5  1]]\n",
            "Матриця 2:\n",
            "[[ 5  6  3  9]\n",
            " [10  9  7  4]\n",
            " [ 3  3  3  2]\n",
            " [ 5  5  4  4]]\n"
          ]
        }
      ]
    },
    {
      "cell_type": "code",
      "source": [
        "print(\"Сумма:\")\n",
        "print(matrix1 + matrix2)\n",
        "print(\"Різниця:\")\n",
        "print(matrix1 - matrix2)\n",
        "print(\"Множення:\")\n",
        "print(matrix1 * matrix2)\n",
        "print(\"Ділення:\")\n",
        "print(np.divide(matrix1,matrix2, where=2!=0))"
      ],
      "metadata": {
        "colab": {
          "base_uri": "https://localhost:8080/"
        },
        "id": "lM-HY2T-WuOu",
        "outputId": "e0932705-e10b-4491-e862-85224290b896"
      },
      "execution_count": null,
      "outputs": [
        {
          "output_type": "stream",
          "name": "stdout",
          "text": [
            "Сумма:\n",
            "[[ 7  9 10 12]\n",
            " [14 11  9  6]\n",
            " [11  7  6 11]\n",
            " [12 15  9  5]]\n",
            "Різниця:\n",
            "[[-3 -3  4 -6]\n",
            " [-6 -7 -5 -2]\n",
            " [ 5  1  0  7]\n",
            " [ 2  5  1 -3]]\n",
            "Множення:\n",
            "[[10 18 21 27]\n",
            " [40 18 14  8]\n",
            " [24 12  9 18]\n",
            " [35 50 20  4]]\n",
            "Ділення:\n",
            "[[0.4        0.5        2.33333333 0.33333333]\n",
            " [0.4        0.22222222 0.28571429 0.5       ]\n",
            " [2.66666667 1.33333333 1.         4.5       ]\n",
            " [1.4        2.         1.25       0.25      ]]\n"
          ]
        }
      ]
    },
    {
      "cell_type": "markdown",
      "source": [
        "Задати вектор рядок що сітить дійсні числа 1 - 8. Зробити матрицю 3*3. Помножити на вектор рядок, що мітить числа 1-2"
      ],
      "metadata": {
        "id": "LzqDwRTTbNaq"
      }
    },
    {
      "cell_type": "code",
      "source": [
        "x= np.arange(9.0)\n",
        "x1 = x.reshape((3,3))\n",
        "x2 = np.arange(3.0)\n",
        "print(\"Добуток\")\n",
        "print(np.multiply(x1,x2))"
      ],
      "metadata": {
        "colab": {
          "base_uri": "https://localhost:8080/"
        },
        "id": "23u99x99XzCF",
        "outputId": "a08db055-6851-4c8a-fe60-76f7be7f74f0"
      },
      "execution_count": null,
      "outputs": [
        {
          "output_type": "stream",
          "name": "stdout",
          "text": [
            "Добуток\n",
            "[[ 0.  1.  4.]\n",
            " [ 0.  4. 10.]\n",
            " [ 0.  7. 16.]]\n"
          ]
        }
      ]
    },
    {
      "cell_type": "code",
      "source": [
        "x1 = np.arange(6)\n",
        "np.power(x1,3)\n",
        "x2=np.array([1,2,3,3,2,1])\n",
        "x1 ** x2"
      ],
      "metadata": {
        "colab": {
          "base_uri": "https://localhost:8080/"
        },
        "id": "ayWunje6YqJn",
        "outputId": "edbbe3c6-99f6-4397-e5c2-e34dad5b52b2"
      },
      "execution_count": null,
      "outputs": [
        {
          "output_type": "execute_result",
          "data": {
            "text/plain": [
              "array([ 0,  1,  8, 27, 16,  5])"
            ]
          },
          "metadata": {},
          "execution_count": 15
        }
      ]
    }
  ]
}